{
 "cells": [
  {
   "cell_type": "code",
   "execution_count": 192,
   "id": "df5ab9b8",
   "metadata": {},
   "outputs": [],
   "source": [
    "import pandas as pd\n",
    "import matplotlib.pyplot as plt\n",
    "import numpy as np"
   ]
  },
  {
   "cell_type": "code",
   "execution_count": 184,
   "id": "b5ec0a6e",
   "metadata": {},
   "outputs": [
    {
     "data": {
      "text/html": [
       "<div>\n",
       "<style scoped>\n",
       "    .dataframe tbody tr th:only-of-type {\n",
       "        vertical-align: middle;\n",
       "    }\n",
       "\n",
       "    .dataframe tbody tr th {\n",
       "        vertical-align: top;\n",
       "    }\n",
       "\n",
       "    .dataframe thead th {\n",
       "        text-align: right;\n",
       "    }\n",
       "</style>\n",
       "<table border=\"1\" class=\"dataframe\">\n",
       "  <thead>\n",
       "    <tr style=\"text-align: right;\">\n",
       "      <th></th>\n",
       "      <th>Content ID</th>\n",
       "      <th>User ID</th>\n",
       "      <th>Type</th>\n",
       "      <th>Category</th>\n",
       "      <th>URL</th>\n",
       "    </tr>\n",
       "  </thead>\n",
       "  <tbody>\n",
       "    <tr>\n",
       "      <th>0</th>\n",
       "      <td>97522e57-d9ab-4bd6-97bf-c24d952602d2</td>\n",
       "      <td>8d3cd87d-8a31-4935-9a4f-b319bfe05f31</td>\n",
       "      <td>photo</td>\n",
       "      <td>Studying</td>\n",
       "      <td>https://socialbuzz.cdn.com/content/storage/975...</td>\n",
       "    </tr>\n",
       "    <tr>\n",
       "      <th>1</th>\n",
       "      <td>9f737e0a-3cdd-4d29-9d24-753f4e3be810</td>\n",
       "      <td>beb1f34e-7870-46d6-9fc7-2e12eb83ce43</td>\n",
       "      <td>photo</td>\n",
       "      <td>Healthy eating</td>\n",
       "      <td>https://socialbuzz.cdn.com/content/storage/9f7...</td>\n",
       "    </tr>\n",
       "    <tr>\n",
       "      <th>2</th>\n",
       "      <td>230c4e4d-70c3-461d-b42c-ec09396efb3f</td>\n",
       "      <td>a5c65404-5894-4b87-82f2-d787cbee86b4</td>\n",
       "      <td>photo</td>\n",
       "      <td>Healthy eating</td>\n",
       "      <td>https://socialbuzz.cdn.com/content/storage/230...</td>\n",
       "    </tr>\n",
       "  </tbody>\n",
       "</table>\n",
       "</div>"
      ],
      "text/plain": [
       "                             Content ID                               User ID  \\\n",
       "0  97522e57-d9ab-4bd6-97bf-c24d952602d2  8d3cd87d-8a31-4935-9a4f-b319bfe05f31   \n",
       "1  9f737e0a-3cdd-4d29-9d24-753f4e3be810  beb1f34e-7870-46d6-9fc7-2e12eb83ce43   \n",
       "2  230c4e4d-70c3-461d-b42c-ec09396efb3f  a5c65404-5894-4b87-82f2-d787cbee86b4   \n",
       "\n",
       "    Type        Category                                                URL  \n",
       "0  photo        Studying  https://socialbuzz.cdn.com/content/storage/975...  \n",
       "1  photo  Healthy eating  https://socialbuzz.cdn.com/content/storage/9f7...  \n",
       "2  photo  Healthy eating  https://socialbuzz.cdn.com/content/storage/230...  "
      ]
     },
     "execution_count": 184,
     "metadata": {},
     "output_type": "execute_result"
    }
   ],
   "source": [
    "content=pd.read_csv('Content (1).csv')\n",
    "content=content.iloc[: , 1:] #drop first column\n",
    "content.Type.unique()\n",
    "content.Category.unique()\n",
    "content['Category'] = content['Category'].str.replace('\"', '')\n",
    "content['Category'] = content['Category'].str.capitalize()\n",
    "content.head(3)"
   ]
  },
  {
   "cell_type": "code",
   "execution_count": 163,
   "id": "943c3db4",
   "metadata": {},
   "outputs": [],
   "source": [
    "reactions.isnull().sum()\n",
    "reactions=reactions.dropna(subset=['Type'])"
   ]
  },
  {
   "cell_type": "code",
   "execution_count": 67,
   "id": "7a2f8372",
   "metadata": {},
   "outputs": [
    {
     "data": {
      "text/plain": [
       "User ID    0\n",
       "Address    0\n",
       "dtype: int64"
      ]
     },
     "execution_count": 67,
     "metadata": {},
     "output_type": "execute_result"
    }
   ],
   "source": [
    "location=pd.read_csv('Location (1).csv')\n",
    "location=location.iloc[: , 1:]\n",
    "location.head(3)\n",
    "location.isnull().sum()"
   ]
  },
  {
   "cell_type": "code",
   "execution_count": 68,
   "id": "a5db44f9",
   "metadata": {},
   "outputs": [
    {
     "data": {
      "text/plain": [
       "User ID      0\n",
       "Interests    0\n",
       "Age          0\n",
       "dtype: int64"
      ]
     },
     "execution_count": 68,
     "metadata": {},
     "output_type": "execute_result"
    }
   ],
   "source": [
    "profile=pd.read_csv('Profile (1).csv')\n",
    "profile=profile.iloc[: , 1:]\n",
    "profile.head(3)\n",
    "profile.isnull().sum()"
   ]
  },
  {
   "cell_type": "code",
   "execution_count": 86,
   "id": "b459363e",
   "metadata": {},
   "outputs": [],
   "source": [
    "reactions=pd.read_csv('Reactions (1).csv')\n",
    "reactions=reactions.iloc[: , 1:]\n",
    "reactions.isnull().sum()\n",
    "reactions=reactions.dropna(subset=['Type'])"
   ]
  },
  {
   "cell_type": "code",
   "execution_count": 151,
   "id": "616ff769",
   "metadata": {},
   "outputs": [
    {
     "data": {
      "text/html": [
       "<div>\n",
       "<style scoped>\n",
       "    .dataframe tbody tr th:only-of-type {\n",
       "        vertical-align: middle;\n",
       "    }\n",
       "\n",
       "    .dataframe tbody tr th {\n",
       "        vertical-align: top;\n",
       "    }\n",
       "\n",
       "    .dataframe thead th {\n",
       "        text-align: right;\n",
       "    }\n",
       "</style>\n",
       "<table border=\"1\" class=\"dataframe\">\n",
       "  <thead>\n",
       "    <tr style=\"text-align: right;\">\n",
       "      <th></th>\n",
       "      <th>Content ID</th>\n",
       "      <th>User ID</th>\n",
       "      <th>Type</th>\n",
       "      <th>Datetime</th>\n",
       "    </tr>\n",
       "  </thead>\n",
       "  <tbody>\n",
       "    <tr>\n",
       "      <th>1</th>\n",
       "      <td>97522e57-d9ab-4bd6-97bf-c24d952602d2</td>\n",
       "      <td>5d454588-283d-459d-915d-c48a2cb4c27f</td>\n",
       "      <td>disgust</td>\n",
       "      <td>2020-11-07 09:43:50</td>\n",
       "    </tr>\n",
       "    <tr>\n",
       "      <th>2</th>\n",
       "      <td>97522e57-d9ab-4bd6-97bf-c24d952602d2</td>\n",
       "      <td>92b87fa5-f271-43e0-af66-84fac21052e6</td>\n",
       "      <td>dislike</td>\n",
       "      <td>2021-06-17 12:22:51</td>\n",
       "    </tr>\n",
       "    <tr>\n",
       "      <th>3</th>\n",
       "      <td>97522e57-d9ab-4bd6-97bf-c24d952602d2</td>\n",
       "      <td>163daa38-8b77-48c9-9af6-37a6c1447ac2</td>\n",
       "      <td>scared</td>\n",
       "      <td>2021-04-18 05:13:58</td>\n",
       "    </tr>\n",
       "  </tbody>\n",
       "</table>\n",
       "</div>"
      ],
      "text/plain": [
       "                             Content ID                               User ID  \\\n",
       "1  97522e57-d9ab-4bd6-97bf-c24d952602d2  5d454588-283d-459d-915d-c48a2cb4c27f   \n",
       "2  97522e57-d9ab-4bd6-97bf-c24d952602d2  92b87fa5-f271-43e0-af66-84fac21052e6   \n",
       "3  97522e57-d9ab-4bd6-97bf-c24d952602d2  163daa38-8b77-48c9-9af6-37a6c1447ac2   \n",
       "\n",
       "      Type             Datetime  \n",
       "1  disgust  2020-11-07 09:43:50  \n",
       "2  dislike  2021-06-17 12:22:51  \n",
       "3   scared  2021-04-18 05:13:58  "
      ]
     },
     "execution_count": 151,
     "metadata": {},
     "output_type": "execute_result"
    }
   ],
   "source": [
    "reactions.head(3)\n"
   ]
  },
  {
   "cell_type": "code",
   "execution_count": 61,
   "id": "f1b2c0cf",
   "metadata": {},
   "outputs": [
    {
     "data": {
      "text/plain": [
       "Type         0\n",
       "Sentiment    0\n",
       "Score        0\n",
       "dtype: int64"
      ]
     },
     "execution_count": 61,
     "metadata": {},
     "output_type": "execute_result"
    }
   ],
   "source": [
    "reaction_types=pd.read_csv('ReactionTypes (1).csv')\n",
    "reaction_types=reaction_types.iloc[: , 1:]\n",
    "reaction_types.isnull().sum()"
   ]
  },
  {
   "cell_type": "code",
   "execution_count": 152,
   "id": "19ab4602",
   "metadata": {},
   "outputs": [
    {
     "data": {
      "text/html": [
       "<div>\n",
       "<style scoped>\n",
       "    .dataframe tbody tr th:only-of-type {\n",
       "        vertical-align: middle;\n",
       "    }\n",
       "\n",
       "    .dataframe tbody tr th {\n",
       "        vertical-align: top;\n",
       "    }\n",
       "\n",
       "    .dataframe thead th {\n",
       "        text-align: right;\n",
       "    }\n",
       "</style>\n",
       "<table border=\"1\" class=\"dataframe\">\n",
       "  <thead>\n",
       "    <tr style=\"text-align: right;\">\n",
       "      <th></th>\n",
       "      <th>Type</th>\n",
       "      <th>Sentiment</th>\n",
       "      <th>Score</th>\n",
       "    </tr>\n",
       "  </thead>\n",
       "  <tbody>\n",
       "    <tr>\n",
       "      <th>0</th>\n",
       "      <td>heart</td>\n",
       "      <td>positive</td>\n",
       "      <td>60</td>\n",
       "    </tr>\n",
       "    <tr>\n",
       "      <th>1</th>\n",
       "      <td>want</td>\n",
       "      <td>positive</td>\n",
       "      <td>70</td>\n",
       "    </tr>\n",
       "    <tr>\n",
       "      <th>2</th>\n",
       "      <td>disgust</td>\n",
       "      <td>negative</td>\n",
       "      <td>0</td>\n",
       "    </tr>\n",
       "  </tbody>\n",
       "</table>\n",
       "</div>"
      ],
      "text/plain": [
       "      Type Sentiment  Score\n",
       "0    heart  positive     60\n",
       "1     want  positive     70\n",
       "2  disgust  negative      0"
      ]
     },
     "execution_count": 152,
     "metadata": {},
     "output_type": "execute_result"
    }
   ],
   "source": [
    "reaction_types.head(3)\n"
   ]
  },
  {
   "cell_type": "code",
   "execution_count": 69,
   "id": "48bf5b55",
   "metadata": {},
   "outputs": [
    {
     "data": {
      "text/plain": [
       "User ID     0\n",
       "Device      0\n",
       "Duration    0\n",
       "dtype: int64"
      ]
     },
     "execution_count": 69,
     "metadata": {},
     "output_type": "execute_result"
    }
   ],
   "source": [
    "session=pd.read_csv('Session (1).csv')\n",
    "session=session.iloc[: , 1:]\n",
    "session.head(3)\n",
    "session.isnull().sum()"
   ]
  },
  {
   "cell_type": "code",
   "execution_count": 70,
   "id": "94237be8",
   "metadata": {},
   "outputs": [
    {
     "data": {
      "text/plain": [
       "User ID    0\n",
       "Name       0\n",
       "Email      0\n",
       "dtype: int64"
      ]
     },
     "execution_count": 70,
     "metadata": {},
     "output_type": "execute_result"
    }
   ],
   "source": [
    "user=pd.read_csv('User (1).csv')\n",
    "user=user.iloc[: , 1:]\n",
    "user.head()\n",
    "user.isnull().sum()"
   ]
  },
  {
   "cell_type": "code",
   "execution_count": null,
   "id": "2f0d8c78",
   "metadata": {},
   "outputs": [],
   "source": [
    "# - An audit of their big data practice\n",
    "# - Recommendations for a successful IPO\n",
    "# - An analysis of their content categories \n",
    "# that highlights the top 5 categories with the largest aggregate popularity"
   ]
  },
  {
   "cell_type": "code",
   "execution_count": 185,
   "id": "d78aba95",
   "metadata": {},
   "outputs": [],
   "source": [
    "reactions_content=pd.DataFrame()\n",
    "reaction_content=pd.merge(reactions,content,on='Content ID',how='left')"
   ]
  },
  {
   "cell_type": "code",
   "execution_count": 186,
   "id": "6e68245d",
   "metadata": {},
   "outputs": [
    {
     "data": {
      "text/html": [
       "<div>\n",
       "<style scoped>\n",
       "    .dataframe tbody tr th:only-of-type {\n",
       "        vertical-align: middle;\n",
       "    }\n",
       "\n",
       "    .dataframe tbody tr th {\n",
       "        vertical-align: top;\n",
       "    }\n",
       "\n",
       "    .dataframe thead th {\n",
       "        text-align: right;\n",
       "    }\n",
       "</style>\n",
       "<table border=\"1\" class=\"dataframe\">\n",
       "  <thead>\n",
       "    <tr style=\"text-align: right;\">\n",
       "      <th></th>\n",
       "      <th>Content ID</th>\n",
       "      <th>Type</th>\n",
       "      <th>Datetime</th>\n",
       "      <th>User ID</th>\n",
       "      <th>Content_Type</th>\n",
       "      <th>Category</th>\n",
       "    </tr>\n",
       "  </thead>\n",
       "  <tbody>\n",
       "    <tr>\n",
       "      <th>0</th>\n",
       "      <td>97522e57-d9ab-4bd6-97bf-c24d952602d2</td>\n",
       "      <td>disgust</td>\n",
       "      <td>2020-11-07 09:43:50</td>\n",
       "      <td>8d3cd87d-8a31-4935-9a4f-b319bfe05f31</td>\n",
       "      <td>photo</td>\n",
       "      <td>Studying</td>\n",
       "    </tr>\n",
       "    <tr>\n",
       "      <th>1</th>\n",
       "      <td>97522e57-d9ab-4bd6-97bf-c24d952602d2</td>\n",
       "      <td>dislike</td>\n",
       "      <td>2021-06-17 12:22:51</td>\n",
       "      <td>8d3cd87d-8a31-4935-9a4f-b319bfe05f31</td>\n",
       "      <td>photo</td>\n",
       "      <td>Studying</td>\n",
       "    </tr>\n",
       "    <tr>\n",
       "      <th>2</th>\n",
       "      <td>97522e57-d9ab-4bd6-97bf-c24d952602d2</td>\n",
       "      <td>scared</td>\n",
       "      <td>2021-04-18 05:13:58</td>\n",
       "      <td>8d3cd87d-8a31-4935-9a4f-b319bfe05f31</td>\n",
       "      <td>photo</td>\n",
       "      <td>Studying</td>\n",
       "    </tr>\n",
       "    <tr>\n",
       "      <th>3</th>\n",
       "      <td>97522e57-d9ab-4bd6-97bf-c24d952602d2</td>\n",
       "      <td>disgust</td>\n",
       "      <td>2021-01-06 19:13:01</td>\n",
       "      <td>8d3cd87d-8a31-4935-9a4f-b319bfe05f31</td>\n",
       "      <td>photo</td>\n",
       "      <td>Studying</td>\n",
       "    </tr>\n",
       "    <tr>\n",
       "      <th>4</th>\n",
       "      <td>97522e57-d9ab-4bd6-97bf-c24d952602d2</td>\n",
       "      <td>interested</td>\n",
       "      <td>2020-08-23 12:25:58</td>\n",
       "      <td>8d3cd87d-8a31-4935-9a4f-b319bfe05f31</td>\n",
       "      <td>photo</td>\n",
       "      <td>Studying</td>\n",
       "    </tr>\n",
       "  </tbody>\n",
       "</table>\n",
       "</div>"
      ],
      "text/plain": [
       "                             Content ID        Type             Datetime  \\\n",
       "0  97522e57-d9ab-4bd6-97bf-c24d952602d2     disgust  2020-11-07 09:43:50   \n",
       "1  97522e57-d9ab-4bd6-97bf-c24d952602d2     dislike  2021-06-17 12:22:51   \n",
       "2  97522e57-d9ab-4bd6-97bf-c24d952602d2      scared  2021-04-18 05:13:58   \n",
       "3  97522e57-d9ab-4bd6-97bf-c24d952602d2     disgust  2021-01-06 19:13:01   \n",
       "4  97522e57-d9ab-4bd6-97bf-c24d952602d2  interested  2020-08-23 12:25:58   \n",
       "\n",
       "                                User ID Content_Type  Category  \n",
       "0  8d3cd87d-8a31-4935-9a4f-b319bfe05f31        photo  Studying  \n",
       "1  8d3cd87d-8a31-4935-9a4f-b319bfe05f31        photo  Studying  \n",
       "2  8d3cd87d-8a31-4935-9a4f-b319bfe05f31        photo  Studying  \n",
       "3  8d3cd87d-8a31-4935-9a4f-b319bfe05f31        photo  Studying  \n",
       "4  8d3cd87d-8a31-4935-9a4f-b319bfe05f31        photo  Studying  "
      ]
     },
     "execution_count": 186,
     "metadata": {},
     "output_type": "execute_result"
    }
   ],
   "source": [
    "reaction_content=reaction_content.rename(columns = {'Type_x':'Type',\n",
    "                                                    'Type_y':'Content_Type',\n",
    "                                                    'User ID_y':'User ID'})\n",
    "reaction_content = reaction_content.iloc[: , :-1]\n",
    "reaction_content = reaction_content.drop(reaction_content.columns[[1]],axis = 1)\n",
    "reaction_content.head()"
   ]
  },
  {
   "cell_type": "code",
   "execution_count": 187,
   "id": "d5e94274",
   "metadata": {},
   "outputs": [],
   "source": [
    "model_full=pd.merge(reaction_content,reaction_types,on='Type',how='left')"
   ]
  },
  {
   "cell_type": "code",
   "execution_count": 188,
   "id": "73e6343b",
   "metadata": {},
   "outputs": [
    {
     "data": {
      "text/html": [
       "<div>\n",
       "<style scoped>\n",
       "    .dataframe tbody tr th:only-of-type {\n",
       "        vertical-align: middle;\n",
       "    }\n",
       "\n",
       "    .dataframe tbody tr th {\n",
       "        vertical-align: top;\n",
       "    }\n",
       "\n",
       "    .dataframe thead th {\n",
       "        text-align: right;\n",
       "    }\n",
       "</style>\n",
       "<table border=\"1\" class=\"dataframe\">\n",
       "  <thead>\n",
       "    <tr style=\"text-align: right;\">\n",
       "      <th></th>\n",
       "      <th>Content ID</th>\n",
       "      <th>Reaction Type</th>\n",
       "      <th>Datetime</th>\n",
       "      <th>User ID</th>\n",
       "      <th>Content_Type</th>\n",
       "      <th>Category</th>\n",
       "      <th>Sentiment</th>\n",
       "      <th>Score</th>\n",
       "    </tr>\n",
       "  </thead>\n",
       "  <tbody>\n",
       "    <tr>\n",
       "      <th>0</th>\n",
       "      <td>97522e57-d9ab-4bd6-97bf-c24d952602d2</td>\n",
       "      <td>disgust</td>\n",
       "      <td>2020-11-07 09:43:50</td>\n",
       "      <td>8d3cd87d-8a31-4935-9a4f-b319bfe05f31</td>\n",
       "      <td>photo</td>\n",
       "      <td>Studying</td>\n",
       "      <td>negative</td>\n",
       "      <td>0</td>\n",
       "    </tr>\n",
       "    <tr>\n",
       "      <th>1</th>\n",
       "      <td>97522e57-d9ab-4bd6-97bf-c24d952602d2</td>\n",
       "      <td>dislike</td>\n",
       "      <td>2021-06-17 12:22:51</td>\n",
       "      <td>8d3cd87d-8a31-4935-9a4f-b319bfe05f31</td>\n",
       "      <td>photo</td>\n",
       "      <td>Studying</td>\n",
       "      <td>negative</td>\n",
       "      <td>10</td>\n",
       "    </tr>\n",
       "    <tr>\n",
       "      <th>2</th>\n",
       "      <td>97522e57-d9ab-4bd6-97bf-c24d952602d2</td>\n",
       "      <td>scared</td>\n",
       "      <td>2021-04-18 05:13:58</td>\n",
       "      <td>8d3cd87d-8a31-4935-9a4f-b319bfe05f31</td>\n",
       "      <td>photo</td>\n",
       "      <td>Studying</td>\n",
       "      <td>negative</td>\n",
       "      <td>15</td>\n",
       "    </tr>\n",
       "  </tbody>\n",
       "</table>\n",
       "</div>"
      ],
      "text/plain": [
       "                             Content ID Reaction Type             Datetime  \\\n",
       "0  97522e57-d9ab-4bd6-97bf-c24d952602d2       disgust  2020-11-07 09:43:50   \n",
       "1  97522e57-d9ab-4bd6-97bf-c24d952602d2       dislike  2021-06-17 12:22:51   \n",
       "2  97522e57-d9ab-4bd6-97bf-c24d952602d2        scared  2021-04-18 05:13:58   \n",
       "\n",
       "                                User ID Content_Type  Category Sentiment  \\\n",
       "0  8d3cd87d-8a31-4935-9a4f-b319bfe05f31        photo  Studying  negative   \n",
       "1  8d3cd87d-8a31-4935-9a4f-b319bfe05f31        photo  Studying  negative   \n",
       "2  8d3cd87d-8a31-4935-9a4f-b319bfe05f31        photo  Studying  negative   \n",
       "\n",
       "   Score  \n",
       "0      0  \n",
       "1     10  \n",
       "2     15  "
      ]
     },
     "execution_count": 188,
     "metadata": {},
     "output_type": "execute_result"
    }
   ],
   "source": [
    "model_full=model_full.rename(columns = {'Type':'Reaction Type'})\n",
    "model_full.head(3)"
   ]
  },
  {
   "cell_type": "code",
   "execution_count": 204,
   "id": "e6cc6fab",
   "metadata": {},
   "outputs": [],
   "source": [
    "# popularity=model_full.groupby(['Category']).sum()\n",
    "# top_5=popularity.sort_values('Category',ascending='False')\n",
    "popularity=model_full.groupby(['Category'])['Score'].sum().sort_values(ascending=False)"
   ]
  },
  {
   "cell_type": "code",
   "execution_count": 256,
   "id": "50b39575",
   "metadata": {},
   "outputs": [
    {
     "data": {
      "text/plain": [
       "Category\n",
       "Animals           74965\n",
       "Science           71168\n",
       "Healthy eating    69339\n",
       "Technology        68738\n",
       "Food              66676\n",
       "Name: Score, dtype: int64"
      ]
     },
     "execution_count": 256,
     "metadata": {},
     "output_type": "execute_result"
    }
   ],
   "source": [
    "top5=popularity.head(5)\n",
    "top5"
   ]
  },
  {
   "cell_type": "code",
   "execution_count": 257,
   "id": "1b90c7dc",
   "metadata": {},
   "outputs": [
    {
     "data": {
      "text/plain": [
       "<AxesSubplot:title={'center':'Top 5 Categories by Popularity Score Aggregation'}, ylabel='Categories'>"
      ]
     },
     "execution_count": 257,
     "metadata": {},
     "output_type": "execute_result"
    },
    {
     "data": {
      "image/png": "[encoded data removed]",
      "text/plain": [
       "<Figure size 720x432 with 1 Axes>"
      ]
     },
     "metadata": {
      "needs_background": "light"
     },
     "output_type": "display_data"
    }
   ],
   "source": [
    "top5.plot(kind='barh', \n",
    "          title='Top 5 Categories by Popularity Score Aggregation', \n",
    "          ylabel='Aggregated Popularity Score',\n",
    "          xlabel='Categories',\n",
    "          xlim=(60000,76000),\n",
    "          figsize=(10, 6))"
   ]
  },
  {
   "cell_type": "code",
   "execution_count": 275,
   "id": "46b2577a",
   "metadata": {},
   "outputs": [
    {
     "data": {
      "text/plain": [
       "<AxesSubplot:title={'center':'Top 5 Categories by Popularity Score Aggregation'}>"
      ]
     },
     "execution_count": 275,
     "metadata": {},
     "output_type": "execute_result"
    },
    {
     "data": {
      "image/png": "[encoded data removed]",
      "text/plain": [
       "<Figure size 864x504 with 1 Axes>"
      ]
     },
     "metadata": {},
     "output_type": "display_data"
    }
   ],
   "source": [
    "top5.plot.pie(title='Top 5 Categories by Popularity Score Aggregation', \n",
    "              ylabel='',\n",
    "              startangle=90,\n",
    "              autopct='%1.1f%%', \n",
    "              figsize=(12, 7))"
   ]
  },
  {
   "cell_type": "code",
   "execution_count": null,
   "id": "0dd32ed4",
   "metadata": {},
   "outputs": [],
   "source": []
  }
 ],
 "metadata": {
  "kernelspec": {
   "display_name": "Python 3",
   "language": "python",
   "name": "python3"
  },
  "language_info": {
   "codemirror_mode": {
    "name": "ipython",
    "version": 3
   },
   "file_extension": ".py",
   "mimetype": "text/x-python",
   "name": "python",
   "nbconvert_exporter": "python",
   "pygments_lexer": "ipython3",
   "version": "3.8.8"
  }
 },
 "nbformat": 4,
 "nbformat_minor": 5
}
